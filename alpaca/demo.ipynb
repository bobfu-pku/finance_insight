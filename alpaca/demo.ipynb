{
 "cells": [
  {
   "cell_type": "code",
   "execution_count": 1,
   "metadata": {
    "collapsed": true
   },
   "outputs": [],
   "source": [
    "import alpaca_trade_api as tradeapi"
   ]
  },
  {
   "cell_type": "code",
   "execution_count": 2,
   "metadata": {
    "collapsed": true
   },
   "outputs": [],
   "source": [
    "API_KEY = \"PK4AJ8TN25KTZBTVLH6R\"\n",
    "API_SECRET = \"mCtlDH2Euk3kiOVf67gBjNYSA3FdKwroVV6nbU9F\"\n",
    "APCA_API_BASE_URL = \"https://paper-api.alpaca.markets\""
   ]
  },
  {
   "cell_type": "code",
   "execution_count": 3,
   "metadata": {
    "collapsed": true
   },
   "outputs": [],
   "source": [
    "alpaca = tradeapi.REST(API_KEY, API_SECRET, APCA_API_BASE_URL, 'v2')"
   ]
  },
  {
   "cell_type": "code",
   "execution_count": 4,
   "metadata": {},
   "outputs": [
    {
     "name": "stdout",
     "output_type": "stream",
     "text": [
      "[Some Info of My Account]\n",
      "--------------------------\n",
      "daytrade_count: 0\n",
      "       status : ACTIVE\n",
      "         cash : 100000\n",
      "  buying_power: 385500.685\n"
     ]
    }
   ],
   "source": [
    "account = alpaca.get_account()\n",
    "print(f\"\"\"[Some Info of My Account]\n",
    "--------------------------\n",
    "daytrade_count: {account.daytrade_count}\n",
    "       status : {account.status}\n",
    "         cash : {account.cash}\n",
    "  buying_power: {account.buying_power}\"\"\")"
   ]
  },
  {
   "cell_type": "code",
   "execution_count": 5,
   "metadata": {},
   "outputs": [
    {
     "data": {
      "text/plain": [
       "[]"
      ]
     },
     "execution_count": 5,
     "metadata": {},
     "output_type": "execute_result"
    }
   ],
   "source": [
    "alpaca.list_positions()"
   ]
  },
  {
   "cell_type": "code",
   "execution_count": 6,
   "metadata": {},
   "outputs": [
    {
     "name": "stdout",
     "output_type": "stream",
     "text": [
      "Symbol: MSFT\t Side: sell\t type: market\t quantity: 30\n",
      "Symbol: SPY\t Side: buy\t type: market\t quantity: 30\n"
     ]
    }
   ],
   "source": [
    "orders = alpaca.list_orders()\n",
    "for order in orders:\n",
    "    print(f\"Symbol: {order.symbol}\\t Side: {order.side}\\t type: {order.type}\\t quantity: {order.qty}\")"
   ]
  },
  {
   "cell_type": "code",
   "execution_count": 7,
   "metadata": {
    "collapsed": true
   },
   "outputs": [],
   "source": [
    "# Cancel all of my orders \n",
    "alpaca.cancel_all_orders()"
   ]
  },
  {
   "cell_type": "code",
   "execution_count": 8,
   "metadata": {
    "collapsed": true
   },
   "outputs": [],
   "source": [
    "# Submit an order if quantity is above 0.\n",
    "def submitmarketOrder(qty, stock, side):\n",
    "    if (qty > 0):\n",
    "        try:\n",
    "            alpaca.submit_order(stock, qty, side, \"market\", \"day\")\n",
    "            print(\"Market order of | \" + str(qty) + \" \" + stock + \" \" + side + \" | completed.\")\n",
    "        except:\n",
    "            print(\"Order of | \" + str(qty) + \" \" + stock + \" \" + side + \" | did not go through.\")\n",
    "    else:\n",
    "        print(\"Quantity is 0, order of | \" + str(qty) + \" \" + stock + \" \" + side + \" | not completed.\")"
   ]
  },
  {
   "cell_type": "code",
   "execution_count": 9,
   "metadata": {},
   "outputs": [
    {
     "name": "stdout",
     "output_type": "stream",
     "text": [
      "Market order of | 30 AAPL buy | completed.\n"
     ]
    }
   ],
   "source": [
    "submitmarketOrder(30, 'AAPL', 'buy')"
   ]
  },
  {
   "cell_type": "code",
   "execution_count": 10,
   "metadata": {
    "scrolled": true
   },
   "outputs": [
    {
     "name": "stdout",
     "output_type": "stream",
     "text": [
      "Market order of | 30 BABA sell | completed.\n"
     ]
    }
   ],
   "source": [
    "submitmarketOrder(30, 'BABA', 'sell')"
   ]
  },
  {
   "cell_type": "code",
   "execution_count": 11,
   "metadata": {},
   "outputs": [
    {
     "name": "stdout",
     "output_type": "stream",
     "text": [
      "Symbol: BABA\t Side: sell\t type: market\t quantity: 30\n",
      "Symbol: AAPL\t Side: buy\t type: market\t quantity: 30\n"
     ]
    }
   ],
   "source": [
    "orders = alpaca.list_orders()\n",
    "for order in orders:\n",
    "    print(f\"Symbol: {order.symbol}\\t Side: {order.side}\\t type: {order.type}\\t quantity: {order.qty}\")"
   ]
  },
  {
   "cell_type": "code",
   "execution_count": 12,
   "metadata": {},
   "outputs": [
    {
     "data": {
      "text/plain": [
       "{'AAPL': [Bar({   'c': 279.28,\n",
       "      'h': 282.65,\n",
       "      'l': 278.56,\n",
       "      'o': 282.23,\n",
       "      't': 1576818000,\n",
       "      'v': 34326205}), Bar({   'c': 283.97,\n",
       "      'h': 284.25,\n",
       "      'l': 280.3735,\n",
       "      'o': 280.53,\n",
       "      't': 1577077200,\n",
       "      'v': 18737610}), Bar({   'c': 284.2762,\n",
       "      'h': 284.89,\n",
       "      'l': 282.9197,\n",
       "      'o': 284.69,\n",
       "      't': 1577163600,\n",
       "      'v': 9678447})]}"
      ]
     },
     "execution_count": 12,
     "metadata": {},
     "output_type": "execute_result"
    }
   ],
   "source": [
    "# The history data are provided without timestamp\n",
    "alpaca.get_barset(symbols='AAPL', timeframe='day', limit=3)"
   ]
  }
 ],
 "metadata": {
  "kernelspec": {
   "display_name": "Python 3",
   "language": "python",
   "name": "python3"
  },
  "language_info": {
   "codemirror_mode": {
    "name": "ipython",
    "version": 3
   },
   "file_extension": ".py",
   "mimetype": "text/x-python",
   "name": "python",
   "nbconvert_exporter": "python",
   "pygments_lexer": "ipython3",
   "version": "3.6.1"
  }
 },
 "nbformat": 4,
 "nbformat_minor": 2
}
